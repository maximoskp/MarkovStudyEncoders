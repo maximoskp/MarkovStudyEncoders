{
 "cells": [
  {
   "cell_type": "code",
   "execution_count": 3,
   "id": "60404229",
   "metadata": {},
   "outputs": [],
   "source": [
    "import pickle\n",
    "from data_utils import HM_Dataset\n",
    "from models import DualEncoderModel, SingleEncoderModel"
   ]
  },
  {
   "cell_type": "code",
   "execution_count": 4,
   "id": "a14fbb29",
   "metadata": {},
   "outputs": [],
   "source": [
    "train_dataset = HM_Dataset(\"data/train.pkl\")\n",
    "h_seq, m_seq = train_dataset[0]"
   ]
  },
  {
   "cell_type": "code",
   "execution_count": null,
   "id": "27850e5b",
   "metadata": {},
   "outputs": [],
   "source": [
    "dual_model = DualEncoderModel(vocab_size)"
   ]
  }
 ],
 "metadata": {
  "kernelspec": {
   "display_name": "torch",
   "language": "python",
   "name": "python3"
  },
  "language_info": {
   "codemirror_mode": {
    "name": "ipython",
    "version": 3
   },
   "file_extension": ".py",
   "mimetype": "text/x-python",
   "name": "python",
   "nbconvert_exporter": "python",
   "pygments_lexer": "ipython3",
   "version": "3.11.6"
  }
 },
 "nbformat": 4,
 "nbformat_minor": 5
}
