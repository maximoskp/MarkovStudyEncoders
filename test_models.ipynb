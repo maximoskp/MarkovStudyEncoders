{
 "cells": [
  {
   "cell_type": "code",
   "execution_count": 10,
   "id": "60404229",
   "metadata": {},
   "outputs": [],
   "source": [
    "import pickle\n",
    "from data_utils import HM_Dataset\n",
    "from models import DualEncoderModel, SingleEncoderModel\n",
    "import torch\n",
    "from torch.utils.data import DataLoader"
   ]
  },
  {
   "cell_type": "code",
   "execution_count": 11,
   "id": "7755c571",
   "metadata": {},
   "outputs": [],
   "source": [
    "device_name = 'cuda:0'\n",
    "if device_name == 'cpu':\n",
    "    device = torch.device('cpu')\n",
    "else:\n",
    "    if torch.cuda.is_available():\n",
    "        device = torch.device(device_name)\n",
    "    else:\n",
    "        print('Selected device not available: ' + device_name)\n",
    "# end device selection"
   ]
  },
  {
   "cell_type": "code",
   "execution_count": 12,
   "id": "a14fbb29",
   "metadata": {},
   "outputs": [],
   "source": [
    "train_dataset = HM_Dataset(\"data/train.pkl\")\n",
    "d = train_dataset[0]\n",
    "\n",
    "batchsize = 16"
   ]
  },
  {
   "cell_type": "code",
   "execution_count": 13,
   "id": "ea1af091",
   "metadata": {},
   "outputs": [],
   "source": [
    "trainloader = DataLoader(train_dataset, batch_size=batchsize, shuffle=True)"
   ]
  },
  {
   "cell_type": "code",
   "execution_count": 14,
   "id": "27850e5b",
   "metadata": {},
   "outputs": [],
   "source": [
    "dual_model = DualEncoderModel(\n",
    "    train_dataset.m_vocab_size, \n",
    "    train_dataset.h_vocab_size, \n",
    "    train_dataset.seq_len, \n",
    "    device=device\n",
    ")"
   ]
  },
  {
   "cell_type": "code",
   "execution_count": 15,
   "id": "8fe52c67",
   "metadata": {},
   "outputs": [
    {
     "name": "stdout",
     "output_type": "stream",
     "text": [
      "{'h_seq': tensor([[ 8,  8, 18,  ..., 23, 25, 25],\n",
      "        [ 8,  8, 18,  ..., 18, 18, 15],\n",
      "        [25, 25, 25,  ...,  3, 14, 30],\n",
      "        ...,\n",
      "        [ 0,  0,  0,  ..., 23, 23, 23],\n",
      "        [22, 22, 22,  ...,  2, 18, 18],\n",
      "        [12, 12, 14,  ..., 28, 19, 21]]), 'm_seq': tensor([[49, 49, 56,  ..., 35, 32, 32],\n",
      "        [25, 25, 34,  ..., 34,  6, 34],\n",
      "        [32, 27, 32,  ..., 17, 24, 60],\n",
      "        ...,\n",
      "        [58, 52, 48,  ..., 35, 31, 35],\n",
      "        [34, 34, 34,  ..., 51,  6,  6],\n",
      "        [35, 39,  8,  ..., 23, 29, 42]])}\n"
     ]
    }
   ],
   "source": [
    "b = next(iter(trainloader))\n",
    "print(b)"
   ]
  },
  {
   "cell_type": "code",
   "execution_count": 16,
   "id": "5594461d",
   "metadata": {},
   "outputs": [
    {
     "data": {
      "text/plain": [
       "torch.Size([16, 128])"
      ]
     },
     "execution_count": 16,
     "metadata": {},
     "output_type": "execute_result"
    }
   ],
   "source": [
    "b['h_seq'].shape"
   ]
  },
  {
   "cell_type": "code",
   "execution_count": 17,
   "id": "812eb73f",
   "metadata": {},
   "outputs": [],
   "source": [
    "y = dual_model( b['m_seq'].to(device), b['h_seq'].to(device) )"
   ]
  },
  {
   "cell_type": "code",
   "execution_count": 18,
   "id": "0525c5d5",
   "metadata": {},
   "outputs": [
    {
     "name": "stdout",
     "output_type": "stream",
     "text": [
      "torch.Size([16, 128, 33])\n"
     ]
    }
   ],
   "source": [
    "print(y.shape)"
   ]
  }
 ],
 "metadata": {
  "kernelspec": {
   "display_name": "torch",
   "language": "python",
   "name": "python3"
  },
  "language_info": {
   "codemirror_mode": {
    "name": "ipython",
    "version": 3
   },
   "file_extension": ".py",
   "mimetype": "text/x-python",
   "name": "python",
   "nbconvert_exporter": "python",
   "pygments_lexer": "ipython3",
   "version": "3.11.6"
  }
 },
 "nbformat": 4,
 "nbformat_minor": 5
}
