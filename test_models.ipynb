{
 "cells": [
  {
   "cell_type": "code",
   "execution_count": 4,
   "id": "60404229",
   "metadata": {},
   "outputs": [],
   "source": [
    "import pickle\n",
    "from data_utils import HM_Dataset\n",
    "from models import DualEncoderModel, SingleEncoderModel\n",
    "import torch\n",
    "from torch.utils.data import DataLoader"
   ]
  },
  {
   "cell_type": "code",
   "execution_count": 5,
   "id": "7755c571",
   "metadata": {},
   "outputs": [],
   "source": [
    "device_name = 'cuda:0'\n",
    "if device_name == 'cpu':\n",
    "    device = torch.device('cpu')\n",
    "else:\n",
    "    if torch.cuda.is_available():\n",
    "        device = torch.device(device_name)\n",
    "    else:\n",
    "        print('Selected device not available: ' + device_name)\n",
    "# end device selection"
   ]
  },
  {
   "cell_type": "code",
   "execution_count": 6,
   "id": "a14fbb29",
   "metadata": {},
   "outputs": [],
   "source": [
    "train_dataset = HM_Dataset(\"data/train.pkl\")\n",
    "d = train_dataset[0]\n",
    "\n",
    "batchsize = 16"
   ]
  },
  {
   "cell_type": "code",
   "execution_count": 7,
   "id": "ea1af091",
   "metadata": {},
   "outputs": [],
   "source": [
    "trainloader = DataLoader(train_dataset, batch_size=batchsize, shuffle=True)"
   ]
  },
  {
   "cell_type": "code",
   "execution_count": 8,
   "id": "27850e5b",
   "metadata": {},
   "outputs": [],
   "source": [
    "dual_model = DualEncoderModel(\n",
    "    train_dataset.m_vocab_size, \n",
    "    train_dataset.h_vocab_size, \n",
    "    train_dataset.seq_len, \n",
    "    device=device\n",
    ")"
   ]
  },
  {
   "cell_type": "code",
   "execution_count": 9,
   "id": "8fe52c67",
   "metadata": {},
   "outputs": [
    {
     "name": "stdout",
     "output_type": "stream",
     "text": [
      "{'h_seq': tensor([[20,  1,  1,  ...,  7,  7,  7],\n",
      "        [ 3, 17, 17,  ..., 14, 14, 17],\n",
      "        [29, 17, 17,  ..., 25, 25, 25],\n",
      "        ...,\n",
      "        [ 7, 29, 29,  ..., 15, 29, 29],\n",
      "        [ 5,  5,  5,  ..., 17,  5,  5],\n",
      "        [11, 11, 23,  ...,  5, 31, 31]]), 'm_seq': tensor([[24, 26, 37,  ..., 20,  7, 44],\n",
      "        [30, 15, 27,  ..., 61, 38, 27],\n",
      "        [31, 15, 27,  ..., 32, 32, 32],\n",
      "        ...,\n",
      "        [44, 35, 35,  ..., 34, 35, 31],\n",
      "        [17, 17, 17,  ..., 27, 22, 22],\n",
      "        [61,  3, 35,  ..., 17, 41, 41]])}\n"
     ]
    }
   ],
   "source": [
    "b = next(iter(trainloader))\n",
    "print(b)"
   ]
  },
  {
   "cell_type": "code",
   "execution_count": 10,
   "id": "5594461d",
   "metadata": {},
   "outputs": [
    {
     "data": {
      "text/plain": [
       "torch.Size([16, 128])"
      ]
     },
     "execution_count": 10,
     "metadata": {},
     "output_type": "execute_result"
    }
   ],
   "source": [
    "b['h_seq'].shape"
   ]
  },
  {
   "cell_type": "code",
   "execution_count": 11,
   "id": "812eb73f",
   "metadata": {},
   "outputs": [],
   "source": [
    "y = dual_model( b['m_seq'].to(device), b['h_seq'].to(device) )"
   ]
  },
  {
   "cell_type": "code",
   "execution_count": 12,
   "id": "0525c5d5",
   "metadata": {},
   "outputs": [
    {
     "name": "stdout",
     "output_type": "stream",
     "text": [
      "torch.Size([16, 128, 33])\n"
     ]
    }
   ],
   "source": [
    "print(y.shape)"
   ]
  }
 ],
 "metadata": {
  "kernelspec": {
   "display_name": "torch",
   "language": "python",
   "name": "python3"
  },
  "language_info": {
   "codemirror_mode": {
    "name": "ipython",
    "version": 3
   },
   "file_extension": ".py",
   "mimetype": "text/x-python",
   "name": "python",
   "nbconvert_exporter": "python",
   "pygments_lexer": "ipython3",
   "version": "3.12.11"
  }
 },
 "nbformat": 4,
 "nbformat_minor": 5
}
