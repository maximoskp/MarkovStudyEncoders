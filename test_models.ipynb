{
 "cells": [
  {
   "cell_type": "code",
   "execution_count": 1,
   "id": "60404229",
   "metadata": {},
   "outputs": [],
   "source": [
    "import pickle\n",
    "from data_utils import HM_Dataset\n",
    "from models import DualEncoderModel, SingleEncoderModel\n",
    "import torch\n",
    "from torch.utils.data import DataLoader"
   ]
  },
  {
   "cell_type": "code",
   "execution_count": 2,
   "id": "7755c571",
   "metadata": {},
   "outputs": [],
   "source": [
    "device_name = 'cuda:0'\n",
    "if device_name == 'cpu':\n",
    "    device = torch.device('cpu')\n",
    "else:\n",
    "    if torch.cuda.is_available():\n",
    "        device = torch.device(device_name)\n",
    "    else:\n",
    "        print('Selected device not available: ' + device_name)\n",
    "# end device selection"
   ]
  },
  {
   "cell_type": "code",
   "execution_count": 4,
   "id": "a14fbb29",
   "metadata": {},
   "outputs": [],
   "source": [
    "train_dataset = HM_Dataset(\"data/train.pkl\")\n",
    "h_seq, m_seq = train_dataset[0]\n",
    "\n",
    "h_size = 32\n",
    "m_size = 64\n",
    "seq_len = 128\n",
    "batchsize = 16"
   ]
  },
  {
   "cell_type": "code",
   "execution_count": null,
   "id": "ea1af091",
   "metadata": {},
   "outputs": [
    {
     "ename": "TypeError",
     "evalue": "DataLoader.__init__() got an unexpected keyword argument 'device'",
     "output_type": "error",
     "traceback": [
      "\u001b[0;31m---------------------------------------------------------------------------\u001b[0m",
      "\u001b[0;31mTypeError\u001b[0m                                 Traceback (most recent call last)",
      "Cell \u001b[0;32mIn[13], line 1\u001b[0m\n\u001b[0;32m----> 1\u001b[0m trainloader \u001b[38;5;241m=\u001b[39m DataLoader(train_dataset, batch_size\u001b[38;5;241m=\u001b[39mbatchsize, shuffle\u001b[38;5;241m=\u001b[39m\u001b[38;5;28;01mTrue\u001b[39;00m, device\u001b[38;5;241m=\u001b[39mdevice)\n",
      "\u001b[0;31mTypeError\u001b[0m: DataLoader.__init__() got an unexpected keyword argument 'device'"
     ]
    }
   ],
   "source": [
    "trainloader = DataLoader(train_dataset, batch_size=batchsize, shuffle=True)"
   ]
  },
  {
   "cell_type": "code",
   "execution_count": 6,
   "id": "27850e5b",
   "metadata": {},
   "outputs": [],
   "source": [
    "dual_model = DualEncoderModel(m_size, h_size, seq_len, device=device)"
   ]
  },
  {
   "cell_type": "code",
   "execution_count": 10,
   "id": "8fe52c67",
   "metadata": {},
   "outputs": [
    {
     "name": "stdout",
     "output_type": "stream",
     "text": [
      "{'h_seq': tensor([[13, 13, 13,  ..., 18, 18, 18],\n",
      "        [20, 20, 20,  ..., 18, 18, 18],\n",
      "        [ 9,  9,  9,  ...,  8,  8,  8],\n",
      "        ...,\n",
      "        [10, 10, 10,  ...,  2,  2,  2],\n",
      "        [19, 20, 20,  ..., 30, 30, 15],\n",
      "        [29, 27, 27,  ..., 26, 19,  7]]), 'm_seq': tensor([[34, 34,  0,  ..., 39,  6, 34],\n",
      "        [23, 24, 23,  ..., 34, 34,  6],\n",
      "        [ 7,  7,  7,  ..., 25, 49, 49],\n",
      "        ...,\n",
      "        [50, 31, 50,  ..., 27, 27, 27],\n",
      "        [29, 23,  5,  ..., 60, 52,  3],\n",
      "        [35, 10, 63,  ...,  6,  7,  7]])}\n"
     ]
    }
   ],
   "source": [
    "b = next(iter(trainloader))\n",
    "print(b)"
   ]
  },
  {
   "cell_type": "code",
   "execution_count": 11,
   "id": "5594461d",
   "metadata": {},
   "outputs": [
    {
     "data": {
      "text/plain": [
       "torch.Size([16, 128])"
      ]
     },
     "execution_count": 11,
     "metadata": {},
     "output_type": "execute_result"
    }
   ],
   "source": [
    "b['h_seq'].shape"
   ]
  },
  {
   "cell_type": "code",
   "execution_count": 14,
   "id": "812eb73f",
   "metadata": {},
   "outputs": [],
   "source": [
    "y = dual_model( b['m_seq'].to(device), b['h_seq'].to(device) )"
   ]
  },
  {
   "cell_type": "code",
   "execution_count": 15,
   "id": "0525c5d5",
   "metadata": {},
   "outputs": [
    {
     "name": "stdout",
     "output_type": "stream",
     "text": [
      "torch.Size([16, 128, 32])\n"
     ]
    }
   ],
   "source": [
    "print(y.shape)"
   ]
  }
 ],
 "metadata": {
  "kernelspec": {
   "display_name": "torch",
   "language": "python",
   "name": "python3"
  },
  "language_info": {
   "codemirror_mode": {
    "name": "ipython",
    "version": 3
   },
   "file_extension": ".py",
   "mimetype": "text/x-python",
   "name": "python",
   "nbconvert_exporter": "python",
   "pygments_lexer": "ipython3",
   "version": "3.11.6"
  }
 },
 "nbformat": 4,
 "nbformat_minor": 5
}
