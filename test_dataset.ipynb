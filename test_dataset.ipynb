{
 "cells": [
  {
   "cell_type": "code",
   "execution_count": 1,
   "id": "11547f98",
   "metadata": {},
   "outputs": [],
   "source": [
    "from data_utils import generate_P_h_given_h, \\\n",
    "    generate_P_m_given_h, generate_dataset_pickle, HM_Dataset"
   ]
  },
  {
   "cell_type": "code",
   "execution_count": 2,
   "id": "74edd519",
   "metadata": {},
   "outputs": [],
   "source": [
    "h_size = 32\n",
    "m_size = 64\n",
    "seq_len = 128\n",
    "num_samples_train = 500"
   ]
  },
  {
   "cell_type": "code",
   "execution_count": 3,
   "id": "006c47a8",
   "metadata": {},
   "outputs": [],
   "source": [
    "# Step 1: Generate transition matrices\n",
    "h_token_ids, T_h = generate_P_h_given_h(diagonal_probability=0.6, h_size=h_size, seed=42)\n",
    "P_m_h, m_token_ids = generate_P_m_given_h(num_peaks=2, peaks_probability=0.9,\n",
    "                                          m_size=m_size, h_token_ids=h_token_ids, seed=42)"
   ]
  },
  {
   "cell_type": "code",
   "execution_count": 4,
   "id": "fa98087f",
   "metadata": {},
   "outputs": [
    {
     "name": "stdout",
     "output_type": "stream",
     "text": [
      "[0, 1, 2, 3, 4, 5, 6, 7, 8, 9, 10, 11, 12, 13, 14, 15, 16, 17, 18, 19, 20, 21, 22, 23, 24, 25, 26, 27, 28, 29, 30, 31]\n",
      "[0, 1, 2, 3, 4, 5, 6, 7, 8, 9, 10, 11, 12, 13, 14, 15, 16, 17, 18, 19, 20, 21, 22, 23, 24, 25, 26, 27, 28, 29, 30, 31, 32, 33, 34, 35, 36, 37, 38, 39, 40, 41, 42, 43, 44, 45, 46, 47, 48, 49, 50, 51, 52, 53, 54, 55, 56, 57, 58, 59, 60, 61, 62, 63]\n"
     ]
    }
   ],
   "source": [
    "print(h_token_ids)\n",
    "print(m_token_ids)"
   ]
  },
  {
   "cell_type": "code",
   "execution_count": 5,
   "id": "256caf96",
   "metadata": {},
   "outputs": [
    {
     "name": "stdout",
     "output_type": "stream",
     "text": [
      "(32, 32)\n",
      "(32, 64)\n"
     ]
    }
   ],
   "source": [
    "print(T_h.shape)\n",
    "print(P_m_h.shape)"
   ]
  },
  {
   "cell_type": "code",
   "execution_count": 6,
   "id": "e91d39fe",
   "metadata": {},
   "outputs": [
    {
     "name": "stderr",
     "output_type": "stream",
     "text": [
      "100%|██████████| 500/500 [00:01<00:00, 335.64it/s]\n"
     ]
    },
    {
     "name": "stdout",
     "output_type": "stream",
     "text": [
      "Saved 500 samples to data/train.pkl\n"
     ]
    }
   ],
   "source": [
    "# Step 2: Generate dataset pickle\n",
    "generate_dataset_pickle(\"data/train.pkl\", num_samples=num_samples_train, \n",
    "                        h_token_ids=h_token_ids, m_token_ids=m_token_ids, \n",
    "                        T_h=T_h, P_m_h=P_m_h, seq_len=seq_len)"
   ]
  },
  {
   "cell_type": "code",
   "execution_count": 9,
   "id": "ac89a1af",
   "metadata": {},
   "outputs": [
    {
     "name": "stdout",
     "output_type": "stream",
     "text": [
      "torch.Size([128]) torch.Size([128])\n",
      "64\n",
      "33\n",
      "128\n",
      "32\n"
     ]
    }
   ],
   "source": [
    "# Step 3: Load as PyTorch Dataset\n",
    "train_dataset = HM_Dataset(\"data/train.pkl\")\n",
    "d = train_dataset[0]\n",
    "h_seq = d['h_seq']\n",
    "m_seq = d['m_seq']\n",
    "print(h_seq.shape, m_seq.shape)\n",
    "print(train_dataset.m_vocab_size)\n",
    "print(train_dataset.h_vocab_size)\n",
    "print(train_dataset.seq_len)\n",
    "print(train_dataset.mask_token_id)"
   ]
  },
  {
   "cell_type": "code",
   "execution_count": 10,
   "id": "2375aad2",
   "metadata": {},
   "outputs": [
    {
     "name": "stdout",
     "output_type": "stream",
     "text": [
      "tensor([11, 11, 11, 19, 18, 18, 18, 18, 18, 18, 18, 18,  5,  5,  5,  5,  5,  5,\n",
      "         5,  5,  5,  5,  5, 20,  0,  0,  0,  0,  0,  0, 22, 22, 22, 22, 22, 11,\n",
      "        11, 11, 28, 19, 19, 19, 19, 19, 19, 19, 19, 19, 21, 21, 21,  2, 30,  9,\n",
      "         9,  4,  4,  4,  4,  4,  4,  4,  7,  7,  7,  7,  1,  1, 29, 29, 19, 19,\n",
      "        19, 19,  9,  9,  9, 27, 27, 12, 12, 12, 12, 12, 29, 19, 19, 30, 29,  1,\n",
      "         1, 18, 21, 21,  8, 16, 25, 25, 27, 27, 27, 27, 27, 12, 12, 12, 21, 31,\n",
      "        31,  7,  7,  7,  7, 13, 26, 26, 26, 26, 24, 24, 24, 23, 23, 23, 23, 23,\n",
      "        23, 23])\n",
      "tensor([61, 61, 60,  7,  6, 34,  6, 34, 34, 32, 34, 34, 22, 22, 22, 17, 17, 22,\n",
      "        17, 17, 17, 22, 22, 24, 52, 58, 52, 58, 44, 58, 34, 13, 13, 19, 13,  3,\n",
      "        61, 46, 61, 29, 29, 29,  7, 29,  7, 49, 29, 29, 24, 42, 42, 27, 52, 43,\n",
      "         7, 33,  9,  9, 33,  9, 33,  9,  1, 44, 41, 44, 37, 37, 31, 31, 29, 29,\n",
      "        29,  7,  7, 43, 43, 63, 63, 39, 35, 35, 35, 35, 35, 15, 29, 52, 31, 26,\n",
      "        26, 34, 24, 42, 25,  6, 32, 61, 63, 10, 10, 63,  9, 35, 39, 39, 24, 41,\n",
      "        41,  7, 44, 44,  7,  0,  6, 52,  6, 52, 35, 18, 35, 27, 35, 35, 27, 27,\n",
      "        27, 27])\n"
     ]
    }
   ],
   "source": [
    "print(h_seq)\n",
    "print(m_seq)"
   ]
  }
 ],
 "metadata": {
  "kernelspec": {
   "display_name": "torch",
   "language": "python",
   "name": "python3"
  },
  "language_info": {
   "codemirror_mode": {
    "name": "ipython",
    "version": 3
   },
   "file_extension": ".py",
   "mimetype": "text/x-python",
   "name": "python",
   "nbconvert_exporter": "python",
   "pygments_lexer": "ipython3",
   "version": "3.11.6"
  }
 },
 "nbformat": 4,
 "nbformat_minor": 5
}
