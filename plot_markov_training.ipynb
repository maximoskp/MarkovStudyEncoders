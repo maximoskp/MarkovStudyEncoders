{
 "cells": [
  {
   "cell_type": "code",
   "execution_count": 6,
   "id": "28e8d768",
   "metadata": {},
   "outputs": [],
   "source": [
    "import os\n",
    "import pandas as pd\n",
    "import matplotlib.pyplot as plt\n",
    "\n",
    "def compare_csv_column(folder_path: str, column_name: str, output_path: str):\n",
    "    \"\"\"\n",
    "    Compare the same column across multiple CSV files in a folder and plot their values.\n",
    "    \n",
    "    Parameters\n",
    "    ----------\n",
    "    folder_path : str\n",
    "        Path to the folder containing CSV files.\n",
    "    column_name : str\n",
    "        The name of the column to compare.\n",
    "    output_path : str\n",
    "        File path to save the resulting plot (e.g., 'output/comparison.png').\n",
    "    \"\"\"\n",
    "    # Collect all CSV files in the folder\n",
    "    csv_files = [f for f in os.listdir(folder_path) if f.endswith('.csv')]\n",
    "    \n",
    "    if not csv_files:\n",
    "        raise ValueError(f\"No CSV files found in {folder_path}\")\n",
    "    \n",
    "    plt.figure(figsize=(10, 6))\n",
    "    \n",
    "    for file in csv_files:\n",
    "        file_path = os.path.join(folder_path, file)\n",
    "        try:\n",
    "            df = pd.read_csv(file_path)\n",
    "            \n",
    "            if column_name not in df.columns:\n",
    "                print(f\"⚠️ Skipping {file} — column '{column_name}' not found.\")\n",
    "                continue\n",
    "            \n",
    "            plt.plot(df[column_name].values, label=file)\n",
    "        \n",
    "        except Exception as e:\n",
    "            print(f\"❌ Error reading {file}: {e}\")\n",
    "    \n",
    "    plt.title(f\"Comparison of '{column_name}' Across Files\")\n",
    "    plt.xlabel(\"Index\")\n",
    "    plt.ylabel(column_name)\n",
    "    plt.legend()\n",
    "    plt.grid(True)\n",
    "    plt.tight_layout()\n",
    "    \n",
    "    # Ensure output directory exists\n",
    "    os.makedirs(os.path.dirname(output_path), exist_ok=True)\n",
    "    \n",
    "    plt.savefig(output_path, dpi=300)\n",
    "    plt.close()\n",
    "    print(f\"✅ Plot saved to {output_path}\")\n"
   ]
  },
  {
   "cell_type": "code",
   "execution_count": 7,
   "id": "e4be72a5",
   "metadata": {},
   "outputs": [
    {
     "name": "stdout",
     "output_type": "stream",
     "text": [
      "✅ Plot saved to figs/accuracy_DE.png\n"
     ]
    }
   ],
   "source": [
    "compare_csv_column(\n",
    "    folder_path=\"results/DE\",\n",
    "    column_name=\"train_acc\",\n",
    "    output_path=\"figs/accuracy_DE.png\"\n",
    ")\n"
   ]
  },
  {
   "cell_type": "code",
   "execution_count": 8,
   "id": "dbc8710b",
   "metadata": {},
   "outputs": [
    {
     "name": "stdout",
     "output_type": "stream",
     "text": [
      "✅ Plot saved to figs/accuracy_SE.png\n"
     ]
    }
   ],
   "source": [
    "compare_csv_column(\n",
    "    folder_path=\"results/SE\",\n",
    "    column_name=\"train_acc\",\n",
    "    output_path=\"figs/accuracy_SE.png\"\n",
    ")"
   ]
  },
  {
   "cell_type": "code",
   "execution_count": 9,
   "id": "4915ee9d",
   "metadata": {},
   "outputs": [
    {
     "name": "stdout",
     "output_type": "stream",
     "text": [
      "✅ Plot saved to figs/accuracy_DE_noise.png\n"
     ]
    }
   ],
   "source": [
    "compare_csv_column(\n",
    "    folder_path=\"results/DE/noise\",\n",
    "    column_name=\"train_acc\",\n",
    "    output_path=\"figs/accuracy_DE_noise.png\"\n",
    ")"
   ]
  },
  {
   "cell_type": "code",
   "execution_count": 10,
   "id": "745f778f",
   "metadata": {},
   "outputs": [
    {
     "name": "stdout",
     "output_type": "stream",
     "text": [
      "✅ Plot saved to figs/accuracy_SE_noise.png\n"
     ]
    }
   ],
   "source": [
    "compare_csv_column(\n",
    "    folder_path=\"results/SE/noise\",\n",
    "    column_name=\"train_acc\",\n",
    "    output_path=\"figs/accuracy_SE_noise.png\"\n",
    ")"
   ]
  }
 ],
 "metadata": {
  "kernelspec": {
   "display_name": "torch",
   "language": "python",
   "name": "python3"
  },
  "language_info": {
   "codemirror_mode": {
    "name": "ipython",
    "version": 3
   },
   "file_extension": ".py",
   "mimetype": "text/x-python",
   "name": "python",
   "nbconvert_exporter": "python",
   "pygments_lexer": "ipython3",
   "version": "3.12.2"
  }
 },
 "nbformat": 4,
 "nbformat_minor": 5
}
